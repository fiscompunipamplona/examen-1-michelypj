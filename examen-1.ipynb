{
 "cells": [
  {
   "cell_type": "code",
   "execution_count": 10,
   "metadata": {},
   "outputs": [],
   "source": [
    "#Nombres: Karoll Michely Parada Jaime- Carlos Alberto Hernandez Jaimes"
   ]
  },
  {
   "cell_type": "code",
   "execution_count": 2,
   "metadata": {},
   "outputs": [],
   "source": [
    "#Escriba un programa que calcule el patrón de difracción que se forma en una pantalla, ubicada a una distancia D=1 m, debido a la interacción de un frente de onda plana que llega una pared con dos agujeros separadas una distancia d=1 cm (ver figura difraccion.png). Asuma que la amplitud de la onda es igual 1, la frecuencia (omega) 1 y la longitud de onda (lambda) 1 cm. (E = A cos(kz))."
   ]
  },
  {
   "cell_type": "code",
   "execution_count": 54,
   "metadata": {},
   "outputs": [
    {
     "name": "stdout",
     "output_type": "stream",
     "text": [
      "Ingrese la posicion en x:20\n",
      "Ingrese la posicion en y:20\n",
      "el patron de difraccion  0.786327642611\n"
     ]
    }
   ],
   "source": [
    "from pylab import plot, imshow, show, xlabel, ylabel\n",
    "from numpy import loadtxt, array, zeros, sqrt, pi, cos\n",
    "\n",
    "pix = 10\n",
    "size = 100. # cm \n",
    "step = size / pix # cm/pixel\n",
    "lda = 1. # cm\n",
    "k = 2.*pi / lda\n",
    "A = 1.0 # cm\n",
    "x1 = float(input(\"Ingrese la posicion en x:\")) # cm\n",
    "y1 = float(input(\"Ingrese la posicion en y:\"))\n",
    "\n",
    "x = zeros(pix, float)\n",
    "y = zeros(pix, float)\n",
    "\n",
    "for i in range(2):\n",
    "    x[i] = step*i\n",
    "    y[i] = step*i\n",
    "    \n",
    "outfile = open(\"outdata.dat\", \"w\")\n",
    "\n",
    "for yy in range( len(y) ):\n",
    "    for xx in range( len(x) ):\n",
    "        r1 = sqrt( (x1-x[xx])*(x1-x[xx]) + (y1-y[yy])*(y1-y[yy]) )\n",
    "        r2 = sqrt( ((x1)-x[xx])*((x1)-x[xx]) + ((y1+1)-y[yy])*((y1+1)-y[yy]) ) \n",
    "        E1=A*cos(r1*k)\n",
    "        E2=A*cos(r2*k)\n",
    "        outfile.write(\"%0.1f \" % (E1+E2))\n",
    "    \n",
    "    outfile.write(\"\\n\")\n",
    "    \n",
    "outfile.close()\n",
    "\n",
    "\n",
    "print(\"el patron de difraccion \", E1+E2 )\n"
   ]
  },
  {
   "cell_type": "code",
   "execution_count": 12,
   "metadata": {},
   "outputs": [],
   "source": [
    "#Realice una gráfica que presente la amplitud de la onda en la pantalla como función de la distancia."
   ]
  },
  {
   "cell_type": "code",
   "execution_count": 55,
   "metadata": {},
   "outputs": [
    {
     "data": {
      "image/png": "[encoded data removed]",
      "text/plain": [
       "<matplotlib.figure.Figure at 0x7fa088452a90>"
      ]
     },
     "metadata": {},
     "output_type": "display_data"
    }
   ],
   "source": [
    "\n",
    "data = loadtxt(\"outdata.dat\", float)\n",
    "plot(data)\n",
    "show()\n"
   ]
  },
  {
   "cell_type": "code",
   "execution_count": null,
   "metadata": {},
   "outputs": [],
   "source": []
  }
 ],
 "metadata": {
  "kernelspec": {
   "display_name": "Python 3",
   "language": "python",
   "name": "python3"
  },
  "language_info": {
   "codemirror_mode": {
    "name": "ipython",
    "version": 3
   },
   "file_extension": ".py",
   "mimetype": "text/x-python",
   "name": "python",
   "nbconvert_exporter": "python",
   "pygments_lexer": "ipython3",
   "version": "3.5.2"
  }
 },
 "nbformat": 4,
 "nbformat_minor": 2
}
